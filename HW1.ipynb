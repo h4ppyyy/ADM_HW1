{
 "cells": [
  {
   "cell_type": "code",
   "execution_count": 1,
   "id": "8e85e703-1ffa-4806-8ff4-d4e2a3d3b572",
   "metadata": {},
   "outputs": [],
   "source": [
    "import numpy as np\n",
    "import pandas as pd\n",
    "import re"
   ]
  },
  {
   "cell_type": "markdown",
   "id": "0a2a3dd5-361f-4396-bf47-c6d94d32e32b",
   "metadata": {},
   "source": [
    "### Introduction\n"
   ]
  },
  {
   "cell_type": "markdown",
   "id": "fa5711d8-af50-4711-b203-7ae20f6e8fce",
   "metadata": {},
   "source": [
    "#### Say \"Hello, World!\" with Python"
   ]
  },
  {
   "cell_type": "code",
   "execution_count": 5,
   "id": "6c256b26-a018-482e-b5a6-28856e3ea37a",
   "metadata": {},
   "outputs": [
    {
     "name": "stdout",
     "output_type": "stream",
     "text": [
      "Hello, World!\n"
     ]
    }
   ],
   "source": [
    "if __name__ == '__main__':\n",
    "    print(\"Hello, World!\")\n"
   ]
  },
  {
   "cell_type": "markdown",
   "id": "f53be559-87ef-4e4f-9d6f-442a5e7c907a",
   "metadata": {},
   "source": [
    "#### Python if-Else"
   ]
  },
  {
   "cell_type": "code",
   "execution_count": 6,
   "id": "b9024927-a266-4cd2-befa-084f8ca34026",
   "metadata": {},
   "outputs": [
    {
     "name": "stdin",
     "output_type": "stream",
     "text": [
      " 3\n"
     ]
    },
    {
     "name": "stdout",
     "output_type": "stream",
     "text": [
      "Weird\n"
     ]
    }
   ],
   "source": [
    "#!/bin/python3\n",
    "\n",
    "import math\n",
    "import os\n",
    "import random\n",
    "import re\n",
    "import sys\n",
    "\n",
    "\n",
    "\n",
    "if __name__ == '__main__':\n",
    "    n = int(input().strip())\n",
    "\n",
    "if n % 2 != 0:\n",
    "    print ('Weird')\n",
    "elif n % 2 == 0 and 2<= n <= 5:\n",
    "    print ('Not Weird')\n",
    "elif n % 2 == 0 and 6<= n <= 20:\n",
    "    print ('Weird')\n",
    "elif  n % 2 == 0 and n>=20:\n",
    "    print ('Not Weird')\n"
   ]
  },
  {
   "cell_type": "markdown",
   "id": "4148f383-b41c-458d-b2c4-214428b2a073",
   "metadata": {},
   "source": [
    "#### Arithmetic Operators"
   ]
  },
  {
   "cell_type": "code",
   "execution_count": 8,
   "id": "d7606efe-9456-45b6-9909-f35ffc6aa70d",
   "metadata": {},
   "outputs": [
    {
     "name": "stdin",
     "output_type": "stream",
     "text": [
      " 3\n",
      " 2\n"
     ]
    },
    {
     "name": "stdout",
     "output_type": "stream",
     "text": [
      "5\n",
      "1\n",
      "6\n"
     ]
    }
   ],
   "source": [
    "if __name__ == '__main__':\n",
    "    a = int(input())\n",
    "    b = int(input())\n",
    "    print (a+b)\n",
    "    print (a-b)\n",
    "    print (a*b)"
   ]
  },
  {
   "cell_type": "markdown",
   "id": "bbfca8ff-1700-4b3d-8991-e451007f7603",
   "metadata": {},
   "source": [
    "#### Python: Division"
   ]
  },
  {
   "cell_type": "code",
   "execution_count": 9,
   "id": "98a45163-6797-4841-a682-e676b88862d7",
   "metadata": {},
   "outputs": [
    {
     "name": "stdin",
     "output_type": "stream",
     "text": [
      " 3\n",
      " 2\n"
     ]
    },
    {
     "name": "stdout",
     "output_type": "stream",
     "text": [
      "1\n",
      "1.5\n"
     ]
    }
   ],
   "source": [
    "if __name__ == '__main__':\n",
    "    a = int(input())\n",
    "    b = int(input())\n",
    "    print(a//b)\n",
    "    print((a/b))\n"
   ]
  },
  {
   "cell_type": "markdown",
   "id": "a65903c9-e5f8-4d1c-b22f-8c527e870109",
   "metadata": {},
   "source": [
    "#### Loops"
   ]
  },
  {
   "cell_type": "code",
   "execution_count": 10,
   "id": "38897c7c-eeda-42c6-a880-13347200987f",
   "metadata": {},
   "outputs": [
    {
     "name": "stdin",
     "output_type": "stream",
     "text": [
      " 5\n"
     ]
    },
    {
     "name": "stdout",
     "output_type": "stream",
     "text": [
      "0\n",
      "1\n",
      "4\n",
      "9\n",
      "16\n"
     ]
    }
   ],
   "source": [
    "if __name__ == '__main__':\n",
    "    n = int(input())\n",
    "    for i in range (0, n):\n",
    "        print (i**2)\n"
   ]
  },
  {
   "cell_type": "markdown",
   "id": "b55604bc-fc58-4596-abee-2ceaf7f689c3",
   "metadata": {},
   "source": [
    "#### Write a Function"
   ]
  },
  {
   "cell_type": "code",
   "execution_count": 12,
   "id": "d7b0047e-4368-48e7-9d5a-52468cf2fc77",
   "metadata": {},
   "outputs": [
    {
     "name": "stdin",
     "output_type": "stream",
     "text": [
      " 1990\n"
     ]
    },
    {
     "name": "stdout",
     "output_type": "stream",
     "text": [
      "False\n"
     ]
    }
   ],
   "source": [
    "def is_leap(year):\n",
    "    leap = False\n",
    "    \n",
    "    if year%4 == 0 and year%100 != 0 or year%400 == 0:\n",
    "        leap = True \n",
    "    \n",
    "    return leap\n",
    "\n",
    "year = int(input())\n",
    "print(is_leap(year))"
   ]
  },
  {
   "cell_type": "markdown",
   "id": "cd7ac4ea-0578-4d79-9ee4-069e680aeb0a",
   "metadata": {},
   "source": [
    "#### Print Function"
   ]
  },
  {
   "cell_type": "code",
   "execution_count": 13,
   "id": "2d1664c1-7f86-4201-b829-d58e85187606",
   "metadata": {},
   "outputs": [
    {
     "name": "stdin",
     "output_type": "stream",
     "text": [
      " 3\n"
     ]
    },
    {
     "name": "stdout",
     "output_type": "stream",
     "text": [
      "123"
     ]
    }
   ],
   "source": [
    "if __name__ == '__main__':\n",
    "    n = int(input())\n",
    "    for i in range (1, n+1):\n",
    "        print(i, end='')"
   ]
  },
  {
   "cell_type": "markdown",
   "id": "9429da2c-dc7d-4da1-82a2-a481776408d3",
   "metadata": {},
   "source": [
    "### Basic Data Types"
   ]
  },
  {
   "cell_type": "markdown",
   "id": "3112e4b6-bd38-448e-8e58-4d412893ee91",
   "metadata": {},
   "source": [
    "#### Nested Lists"
   ]
  },
  {
   "cell_type": "code",
   "execution_count": null,
   "id": "f718080e-6a8f-443e-9ae0-d868ddeb86ec",
   "metadata": {},
   "outputs": [],
   "source": [
    "if __name__ == '__main__':\n",
    "    student_grades = []\n",
    "    grades = []\n",
    "    for _ in range(int(input())):\n",
    "        name = input()\n",
    "        grade = float(input())\n",
    "        student_grades.append([name, grade])\n",
    "        grades.append(grade)\n",
    "\n",
    "    second_lowest_grade = sorted(list(set(grades)))[1]\n",
    "    second_lowest_names = []\n",
    "    for name, grade in student_grades:\n",
    "        if grade == second_lowest_grade:\n",
    "            second_lowest_names.append(name)\n",
    "\n",
    "    for name in sorted(second_lowest_names):\n",
    "        print(name, end='\\n')"
   ]
  },
  {
   "cell_type": "markdown",
   "id": "10999639-fc36-47a6-960f-a4af099202b6",
   "metadata": {},
   "source": [
    "#### List Comprehensions"
   ]
  },
  {
   "cell_type": "code",
   "execution_count": 15,
   "id": "e6099db8-c6ec-41a6-8903-9653b9d05c91",
   "metadata": {},
   "outputs": [
    {
     "name": "stdin",
     "output_type": "stream",
     "text": [
      " 1\n",
      " 1\n",
      " 2\n",
      " 2\n"
     ]
    },
    {
     "name": "stdout",
     "output_type": "stream",
     "text": [
      "[[0, 0, 0], [0, 0, 1], [0, 1, 0], [0, 1, 2], [1, 0, 0], [1, 0, 2], [1, 1, 1], [1, 1, 2]]\n"
     ]
    }
   ],
   "source": [
    "if __name__ == '__main__':\n",
    "    x = int(input())\n",
    "    y = int(input())\n",
    "    z = int(input())\n",
    "    n = int(input())\n",
    "    values = [[i,j,k]\n",
    "    for i in range (x+1)\n",
    "    for j in range (y+1)\n",
    "    for k in range (z+1)\n",
    "    if i+j+k != n]\n",
    "    print (values)\n"
   ]
  },
  {
   "cell_type": "markdown",
   "id": "8ecd3996-c675-4404-bae3-af94422bdd3b",
   "metadata": {},
   "source": [
    "#### Find the Runner-Up Score!\n"
   ]
  },
  {
   "cell_type": "code",
   "execution_count": 16,
   "id": "1885bb21-20d1-45c7-a95f-0e03470f19ca",
   "metadata": {},
   "outputs": [
    {
     "name": "stdin",
     "output_type": "stream",
     "text": [
      " 5\n",
      " 2 3 6 6 5\n"
     ]
    },
    {
     "name": "stdout",
     "output_type": "stream",
     "text": [
      "5\n"
     ]
    }
   ],
   "source": [
    "if __name__ == '__main__':\n",
    "    n = int(input())\n",
    "    arr = map(int, input().split())\n",
    "    arr = list(set(arr))\n",
    "    sorted_arr = sorted(arr)\n",
    "    runner_up = sorted_arr[-2]\n",
    "    print(runner_up)"
   ]
  },
  {
   "cell_type": "markdown",
   "id": "d0f20e2e-3f87-4283-8b9d-50eb8587b0a0",
   "metadata": {},
   "source": [
    "#### Finding the Percentage"
   ]
  },
  {
   "cell_type": "code",
   "execution_count": null,
   "id": "71df904a-06e7-4653-b52b-ebdba977c725",
   "metadata": {},
   "outputs": [],
   "source": [
    "if __name__ == '__main__':\n",
    "    n = int(input())\n",
    "    student_marks = {}\n",
    "    for _ in range(n):\n",
    "        name, *line = input().split()\n",
    "        scores = list(map(float, line))\n",
    "        student_marks[name] = scores\n",
    "    query_name = input()\n",
    "\n",
    "\n",
    "    avg = round(sum(student_marks[query_name])/len(student_marks[query_name]), 2)\n",
    "print(\"{:.2f}\".format(avg))"
   ]
  },
  {
   "cell_type": "markdown",
   "id": "06d7dc07-bfff-4a4c-b627-22492c5c5d32",
   "metadata": {},
   "source": [
    "#### Lists"
   ]
  },
  {
   "cell_type": "code",
   "execution_count": 19,
   "id": "0a8e02c4-3db3-40d8-b32c-62f5eaff2b55",
   "metadata": {},
   "outputs": [
    {
     "name": "stdin",
     "output_type": "stream",
     "text": [
      " 2\n",
      " insert 0 5\n",
      " print \n"
     ]
    },
    {
     "name": "stdout",
     "output_type": "stream",
     "text": [
      "[5]\n"
     ]
    }
   ],
   "source": [
    "if __name__ == '__main__':\n",
    "    n = int(input())\n",
    "    list1 = []\n",
    "\n",
    "    for _ in range(n):\n",
    "        command = input().strip().split(' ')\n",
    "        operation = command[0]\n",
    "\n",
    "        if operation == \"insert\":\n",
    "            c1 = int(command[1])\n",
    "            c2 = int(command[2])\n",
    "            list1.insert(c1, c2)\n",
    "        elif operation == \"print\":\n",
    "            print(list1)\n",
    "        elif operation == \"remove\":\n",
    "            c1 = int(command[1])\n",
    "            list1.remove(c1)\n",
    "        elif operation == \"append\":\n",
    "            c1 = int(command[1])\n",
    "            list1.append(c1)\n",
    "        elif operation == \"sort\":\n",
    "            list1.sort()\n",
    "        elif operation == \"pop\":\n",
    "            list1.pop()\n",
    "        elif operation == \"reverse\":\n",
    "            list1.reverse()\n"
   ]
  },
  {
   "cell_type": "markdown",
   "id": "f5cde1a9-7ab7-422a-8552-7c1a68cd6a21",
   "metadata": {},
   "source": [
    "#### Tuples"
   ]
  },
  {
   "cell_type": "code",
   "execution_count": 21,
   "id": "35e9488b-8078-4311-be87-913f88ca3ebe",
   "metadata": {},
   "outputs": [
    {
     "name": "stdin",
     "output_type": "stream",
     "text": [
      " 2\n",
      " 1 2\n"
     ]
    },
    {
     "name": "stdout",
     "output_type": "stream",
     "text": [
      "-3550055125485641917\n"
     ]
    }
   ],
   "source": [
    "if __name__ == '__main__':\n",
    "    n = int(input())\n",
    "    integer_list = map(int, input().split())\n",
    "    print(hash(tuple(integer_list)))"
   ]
  },
  {
   "cell_type": "markdown",
   "id": "2e999040-9207-4951-8f1a-7619163cefcd",
   "metadata": {},
   "source": [
    "### Strings"
   ]
  },
  {
   "cell_type": "markdown",
   "id": "2fcf0b9e-7c01-4a74-b715-a379ea80cb6d",
   "metadata": {},
   "source": [
    "#### String Formatting"
   ]
  },
  {
   "cell_type": "code",
   "execution_count": null,
   "id": "b41c76f0-086c-469c-a9cf-9c3204a9b293",
   "metadata": {},
   "outputs": [],
   "source": [
    "def print_formatted(number):\n",
    "    for i in range(1,number+1):\n",
    "        bin_size=len(bin(number)[2:])\n",
    "        print(str(i).rjust(bin_size,' '),end=' ')\n",
    "        print(oct(i)[2:].rjust(bin_size,' '),end=' ')\n",
    "        print(hex(i)[2:].upper().rjust(bin_size,' '),end=' ')\n",
    "        print(bin(i)[2:].rjust(bin_size,' '))\n",
    "\n",
    "if __name__ == '__main__':\n",
    "    n = int(input())\n",
    "    print_formatted(n)"
   ]
  },
  {
   "cell_type": "markdown",
   "id": "b2020780-c795-4be1-94fc-44d6fb09d79c",
   "metadata": {},
   "source": [
    "#### sWAP cASE"
   ]
  },
  {
   "cell_type": "code",
   "execution_count": 23,
   "id": "3443175b-284a-478e-a796-013df2086963",
   "metadata": {},
   "outputs": [
    {
     "name": "stdin",
     "output_type": "stream",
     "text": [
      " HackerRank.com presents \"Pythonist 2\".\n"
     ]
    },
    {
     "name": "stdout",
     "output_type": "stream",
     "text": [
      "hACKERrANK.COM PRESENTS \"pYTHONIST 2\".\n"
     ]
    }
   ],
   "source": [
    "def swap_case(s):\n",
    "    return s.swapcase()\n",
    "\n",
    "if __name__ == '__main__':\n",
    "    s = input()\n",
    "    result = swap_case(s)\n",
    "    print(result)"
   ]
  },
  {
   "cell_type": "markdown",
   "id": "8e69e825-0177-4a09-bddf-46000dfc0fca",
   "metadata": {},
   "source": [
    "#### String Split and Join"
   ]
  },
  {
   "cell_type": "code",
   "execution_count": 25,
   "id": "ea8bbc14-b065-40fb-b193-2cb7a54beed5",
   "metadata": {},
   "outputs": [
    {
     "name": "stdin",
     "output_type": "stream",
     "text": [
      " this is a string\n"
     ]
    },
    {
     "name": "stdout",
     "output_type": "stream",
     "text": [
      "this-is-a-string\n"
     ]
    }
   ],
   "source": [
    "def split_and_join(line):\n",
    "    line = line.split(\" \")\n",
    "    line = \"-\".join(line)\n",
    "    return(line)\n",
    "\n",
    "if __name__ == '__main__':\n",
    "    line = input()\n",
    "    result = split_and_join(line)\n",
    "    print(result)"
   ]
  },
  {
   "cell_type": "markdown",
   "id": "e6cb395a-69b3-407b-aa1d-6519cdb3f3c6",
   "metadata": {},
   "source": [
    "#### What's your name?"
   ]
  },
  {
   "cell_type": "code",
   "execution_count": 27,
   "id": "9e4671ec-b339-4a3f-a0a2-ea265eee293c",
   "metadata": {},
   "outputs": [
    {
     "name": "stdin",
     "output_type": "stream",
     "text": [
      " Ross\n",
      " Taylor\n"
     ]
    },
    {
     "name": "stdout",
     "output_type": "stream",
     "text": [
      "Hello Ross Taylor! You just delved into python.\n"
     ]
    }
   ],
   "source": [
    "#\n",
    "# Complete the 'print_full_name' function below.\n",
    "#\n",
    "# The function is expected to return a STRING.\n",
    "# The function accepts following parameters:\n",
    "#  1. STRING first\n",
    "#  2. STRING last\n",
    "#\n",
    "\n",
    "def print_full_name(first, last):\n",
    "    # Write your code here\n",
    "    print(\"Hello \"+first+\" \"+last+\"! You just delved into python.\")\n",
    "if __name__ == '__main__':\n",
    "    first_name = input()\n",
    "    last_name = input()\n",
    "    print_full_name(first_name, last_name)"
   ]
  },
  {
   "cell_type": "markdown",
   "id": "4352ab00-b3aa-4e63-a427-ce57618a791a",
   "metadata": {},
   "source": [
    "#### Mutations"
   ]
  },
  {
   "cell_type": "code",
   "execution_count": 28,
   "id": "2d8ddfd2-c91a-46a2-a5a4-ce4f22ecc8fb",
   "metadata": {},
   "outputs": [
    {
     "name": "stdin",
     "output_type": "stream",
     "text": [
      " abracadabra\n",
      " 5 k\n"
     ]
    },
    {
     "name": "stdout",
     "output_type": "stream",
     "text": [
      "abrackdabra\n"
     ]
    }
   ],
   "source": [
    "def mutate_string(string, position, character):\n",
    "    string = string[:position] + character + string[position+1:]\n",
    "    \n",
    "    return string\n",
    "    \n",
    "if __name__ == '__main__':\n",
    "    s = input()\n",
    "    i, c = input().split()\n",
    "    s_new = mutate_string(s, int(i), c)\n",
    "    print(s_new)"
   ]
  },
  {
   "cell_type": "markdown",
   "id": "fffa9b92-58bd-4f3e-9402-6512ed0d8155",
   "metadata": {},
   "source": [
    "#### Find a string"
   ]
  },
  {
   "cell_type": "code",
   "execution_count": 29,
   "id": "365062d5-6e5a-437b-8ce3-40a5ddac84f6",
   "metadata": {},
   "outputs": [
    {
     "name": "stdin",
     "output_type": "stream",
     "text": [
      " ABCDCDC\n",
      " CDC\n"
     ]
    },
    {
     "name": "stdout",
     "output_type": "stream",
     "text": [
      "2\n"
     ]
    }
   ],
   "source": [
    "def count_substring(string, sub_string):\n",
    "    counter = 0 \n",
    "    for i in range (len(string)):\n",
    "        if string[i:].startswith(sub_string):\n",
    "            counter +=1\n",
    "    return counter\n",
    "\n",
    "if __name__ == '__main__':\n",
    "    string = input().strip()\n",
    "    sub_string = input().strip()\n",
    "    \n",
    "    count = count_substring(string, sub_string)\n",
    "    print(count)"
   ]
  },
  {
   "cell_type": "markdown",
   "id": "59085f62-a621-465a-8a75-ca3fbda9b66c",
   "metadata": {},
   "source": [
    "#### String Validators"
   ]
  },
  {
   "cell_type": "code",
   "execution_count": 30,
   "id": "d9cb7799-6a27-471a-b50b-000bc11bb265",
   "metadata": {},
   "outputs": [
    {
     "name": "stdin",
     "output_type": "stream",
     "text": [
      " qA2\n"
     ]
    },
    {
     "name": "stdout",
     "output_type": "stream",
     "text": [
      "True\n",
      "True\n",
      "True\n",
      "True\n",
      "True\n"
     ]
    }
   ],
   "source": [
    "if __name__ == '__main__':\n",
    "    s = input()\n",
    "    print(any(char.isalnum() for char in s))\n",
    "    print(any(char.isalpha() for char in s))\n",
    "    print(any(char.isdigit() for char in s))\n",
    "    print(any(char.islower() for char in s))\n",
    "    print(any(char.isupper() for char in s))\n"
   ]
  },
  {
   "cell_type": "markdown",
   "id": "51f0ecdb-d209-48b2-9f8c-06763ebfa1eb",
   "metadata": {},
   "source": [
    "#### Text Alignment"
   ]
  },
  {
   "cell_type": "code",
   "execution_count": 31,
   "id": "a24c4595-59e3-4f40-93e7-4033c2ae4b8e",
   "metadata": {},
   "outputs": [
    {
     "name": "stdin",
     "output_type": "stream",
     "text": [
      " 5\n"
     ]
    },
    {
     "name": "stdout",
     "output_type": "stream",
     "text": [
      "    H    \n",
      "   HHH   \n",
      "  HHHHH  \n",
      " HHHHHHH \n",
      "HHHHHHHHH\n",
      "  HHHHH               HHHHH             \n",
      "  HHHHH               HHHHH             \n",
      "  HHHHH               HHHHH             \n",
      "  HHHHH               HHHHH             \n",
      "  HHHHH               HHHHH             \n",
      "  HHHHH               HHHHH             \n",
      "  HHHHHHHHHHHHHHHHHHHHHHHHH   \n",
      "  HHHHHHHHHHHHHHHHHHHHHHHHH   \n",
      "  HHHHHHHHHHHHHHHHHHHHHHHHH   \n",
      "  HHHHH               HHHHH             \n",
      "  HHHHH               HHHHH             \n",
      "  HHHHH               HHHHH             \n",
      "  HHHHH               HHHHH             \n",
      "  HHHHH               HHHHH             \n",
      "  HHHHH               HHHHH             \n",
      "                    HHHHHHHHH \n",
      "                     HHHHHHH  \n",
      "                      HHHHH   \n",
      "                       HHH    \n",
      "                        H     \n"
     ]
    }
   ],
   "source": [
    "thickness = int(input()) #This must be an odd number\n",
    "c = 'H'\n",
    "\n",
    "#Top Cone\n",
    "for i in range(thickness):\n",
    "    print((c*i).rjust(thickness-1)+c+(c*i).ljust(thickness-1))\n",
    "\n",
    "#Top Pillars\n",
    "for i in range(thickness+1):\n",
    "    print((c*thickness).center(thickness*2)+(c*thickness).center(thickness*6))\n",
    "\n",
    "#Middle Part\n",
    "for i in range((thickness+1)//2):\n",
    "    print((c*thickness*5).center(thickness*6))    \n",
    "\n",
    "#Bottom Pillars\n",
    "for i in range(thickness+1):\n",
    "    print((c*thickness).center(thickness*2)+(c*thickness).center(thickness*6))    \n",
    "\n",
    "#Bottom Cone\n",
    "for i in range(thickness):\n",
    "    print(((c*(thickness-i-1)).rjust(thickness)+c+(c*(thickness-i-1)).ljust(thickness)).rjust(thickness*6))\n"
   ]
  },
  {
   "cell_type": "markdown",
   "id": "3d489827-6b39-4487-a994-50861b57a6aa",
   "metadata": {},
   "source": [
    "#### Text Wrap "
   ]
  },
  {
   "cell_type": "code",
   "execution_count": 32,
   "id": "a67a1bdb-32a1-4748-901f-faa0ce2266e5",
   "metadata": {},
   "outputs": [
    {
     "name": "stdin",
     "output_type": "stream",
     "text": [
      " ABCDEFGHIJKLIMNOQRSTUVWXYZ\n",
      " 4\n"
     ]
    },
    {
     "name": "stdout",
     "output_type": "stream",
     "text": [
      "ABCD\n",
      "EFGH\n",
      "IJKL\n",
      "IMNO\n",
      "QRST\n",
      "UVWX\n",
      "YZ\n"
     ]
    }
   ],
   "source": [
    "import textwrap\n",
    "\n",
    "def wrap(string, max_width):\n",
    "    return textwrap.fill(string, max_width)\n",
    "\n",
    "if __name__ == '__main__':\n",
    "    string, max_width = input(), int(input())\n",
    "    result = wrap(string, max_width)\n",
    "    print(result)"
   ]
  },
  {
   "cell_type": "markdown",
   "id": "c9c7f308-c13e-4ae7-a5e3-e8bc6c437d75",
   "metadata": {},
   "source": [
    "#### Designer Door Mat"
   ]
  },
  {
   "cell_type": "code",
   "execution_count": 33,
   "id": "a7212b4b-9cc0-4e83-86ad-557560341310",
   "metadata": {},
   "outputs": [
    {
     "name": "stdin",
     "output_type": "stream",
     "text": [
      " 9 27\n"
     ]
    },
    {
     "name": "stdout",
     "output_type": "stream",
     "text": [
      "------------.|.------------\n",
      "---------.|..|..|.---------\n",
      "------.|..|..|..|..|.------\n",
      "---.|..|..|..|..|..|..|.---\n",
      "----------WELCOME----------\n",
      "---.|..|..|..|..|..|..|.---\n",
      "------.|..|..|..|..|.------\n",
      "---------.|..|..|.---------\n",
      "------------.|.------------\n"
     ]
    }
   ],
   "source": [
    "n, m = map(int, input().split())\n",
    "\n",
    "pattern= '.|.'\n",
    "welcome= 'WELCOME'\n",
    "\n",
    "for i in range(1, n//2+1):\n",
    "    print((pattern*(i*2-1)).center(m,'-'))\n",
    "\n",
    "print(welcome.center(m,'-'))\n",
    "\n",
    "for i in range(n//2,0,-1):\n",
    "    print((pattern*(i*2-1)).center(m,'-'))\n"
   ]
  },
  {
   "cell_type": "markdown",
   "id": "15c69eb7-eeda-47ec-8b38-c8c5a965ce25",
   "metadata": {},
   "source": [
    "#### Alphabet Rangoli"
   ]
  },
  {
   "cell_type": "code",
   "execution_count": null,
   "id": "77d5bbf8-9d85-4c1a-9282-a90fc9c3a8f0",
   "metadata": {},
   "outputs": [],
   "source": [
    "### This question was too hard for me, so for solving it i asked multiple chatgpt questions aswell as using the discussion section in order to understand the question.\n",
    "def print_rangoli(size):\n",
    "    from string import ascii_lowercase as alph\n",
    "    n=size\n",
    "    pattern = []\n",
    "    for i in range(n):\n",
    "        s = \"-\".join(alph[i:n])\n",
    "        pattern.append((s[::-1]+s[1:]).center(4*n-3, \"-\"))   \n",
    "    print('\\n'.join(pattern[:0:-1]+pattern))\n",
    "    \n",
    "if __name__ == '__main__':\n",
    "    n = int(input())\n",
    "    print_rangoli(n)"
   ]
  },
  {
   "cell_type": "markdown",
   "id": "412bfb20-0f20-4d2a-828b-8ecd478a1979",
   "metadata": {},
   "source": [
    "#### Capitalize!"
   ]
  },
  {
   "cell_type": "code",
   "execution_count": null,
   "id": "dab6daee-3692-4734-9ec1-3dab173034e8",
   "metadata": {},
   "outputs": [],
   "source": [
    "#!/bin/python3\n",
    "\n",
    "import math\n",
    "import os\n",
    "import random\n",
    "import re\n",
    "import sys\n",
    "\n",
    "# Complete the solve function below.\n",
    "def solve(s):\n",
    "    for i in s.split():\n",
    "        s = s.replace(i, i.capitalize())\n",
    "    return s\n",
    "\n",
    "if __name__ == '__main__':\n",
    "    fptr = open(os.environ['OUTPUT_PATH'], 'w')\n",
    "\n",
    "    s = input()\n",
    "\n",
    "    result = solve(s)\n",
    "\n",
    "    fptr.write(result + '\\n')\n",
    "\n",
    "    fptr.close()\n"
   ]
  },
  {
   "cell_type": "markdown",
   "id": "133f66e6-261a-4543-b0ca-f917d2644ef4",
   "metadata": {},
   "source": [
    "#### The Minion Game"
   ]
  },
  {
   "cell_type": "code",
   "execution_count": null,
   "id": "4e021e09-2dca-49c3-b53a-cc109b34d7f3",
   "metadata": {},
   "outputs": [],
   "source": []
  },
  {
   "cell_type": "markdown",
   "id": "5a792323-6c7c-48f5-839d-0a462d7226f2",
   "metadata": {},
   "source": [
    "#### Merge the Tools!"
   ]
  },
  {
   "cell_type": "code",
   "execution_count": null,
   "id": "5a324204-ab4e-4ee0-82ee-33a05bde781a",
   "metadata": {},
   "outputs": [],
   "source": []
  },
  {
   "cell_type": "markdown",
   "id": "161ef955-8a9e-471c-b912-3531a278527d",
   "metadata": {},
   "source": [
    "### Sets"
   ]
  },
  {
   "cell_type": "markdown",
   "id": "e1c37b07-4bb1-4731-8054-e76c42fbd7fe",
   "metadata": {},
   "source": [
    "#### No Idea!"
   ]
  },
  {
   "cell_type": "code",
   "execution_count": null,
   "id": "21cb859a-42d5-4ae5-a09c-72f0dd64e453",
   "metadata": {},
   "outputs": [],
   "source": [
    "### for solving this problem i used lectures and explanation of the problem using youtube\n",
    "n, m = map(int, input().split())\n",
    "arr = list(map(int, input().split()))\n",
    "a = set(map(int, input().split()))\n",
    "b = set(map(int, input().split()))\n",
    "print(sum((i in a) - (i in b) for i in arr))"
   ]
  },
  {
   "cell_type": "markdown",
   "id": "380a1057-29f5-4512-8fe7-184a6abd61ca",
   "metadata": {},
   "source": [
    "#### Introduction to Sets"
   ]
  },
  {
   "cell_type": "code",
   "execution_count": 38,
   "id": "fd481f6a-423c-4f92-a9a0-52d390a7c426",
   "metadata": {},
   "outputs": [
    {
     "name": "stdin",
     "output_type": "stream",
     "text": [
      " 3\n",
      " 10 20 15\n"
     ]
    },
    {
     "name": "stdout",
     "output_type": "stream",
     "text": [
      "15.0\n"
     ]
    }
   ],
   "source": [
    "def average(array):\n",
    "    set1 = set(arr)\n",
    "    return sum(set1)/len(set1) \n",
    "\n",
    "if __name__ == '__main__':\n",
    "    n = int(input())\n",
    "    arr = list(map(int, input().split()))\n",
    "    result = average(arr)\n",
    "    print(result)"
   ]
  },
  {
   "cell_type": "markdown",
   "id": "1c92246e-2dab-4154-a9b0-2ef258914eb0",
   "metadata": {},
   "source": [
    "#### Symmetric Difference"
   ]
  },
  {
   "cell_type": "code",
   "execution_count": 39,
   "id": "5fd805ac-c0bf-43fd-b9fb-9f496810aea4",
   "metadata": {},
   "outputs": [
    {
     "name": "stdin",
     "output_type": "stream",
     "text": [
      " 4\n",
      " 2 4 5 9\n",
      " 4\n",
      " 2 4 11 12\n"
     ]
    },
    {
     "name": "stdout",
     "output_type": "stream",
     "text": [
      "5\n",
      "9\n",
      "11\n",
      "12\n"
     ]
    }
   ],
   "source": [
    "m = int(input())\n",
    "m_set = set(map(int, input().split()))\n",
    "n = int(input())\n",
    "n_set = set(map(int,input().split()))\n",
    "print(*sorted(m_set.symmetric_difference(n_set)), sep='\\n')\n"
   ]
  },
  {
   "cell_type": "markdown",
   "id": "62d4d2ea-3525-4ded-b0c2-529f061b8f75",
   "metadata": {},
   "source": [
    "#### Set.add()"
   ]
  },
  {
   "cell_type": "code",
   "execution_count": 40,
   "id": "29f5c7f7-3fe6-43b1-855b-141e515fc989",
   "metadata": {},
   "outputs": [
    {
     "name": "stdin",
     "output_type": "stream",
     "text": [
      " 3\n",
      " UK\n",
      " UK\n",
      " China\n"
     ]
    },
    {
     "name": "stdout",
     "output_type": "stream",
     "text": [
      "2\n"
     ]
    }
   ],
   "source": [
    "if __name__ == \"__main__\":\n",
    "    n = int(input())\n",
    "    s = set()\n",
    "    for i in range (n):\n",
    "        s.add(input())\n",
    "        length = len(s)\n",
    "    print(length)\n"
   ]
  },
  {
   "cell_type": "markdown",
   "id": "dbf27e26-240a-46a1-a0b8-1b289795e180",
   "metadata": {},
   "source": [
    "#### Set.discard(), .remove() & .pop()"
   ]
  },
  {
   "attachments": {
    "57c2d6a1-d54c-474d-bba7-000d8184eda1.png": {
     "image/png": "[encoded data removed]"
    }
   },
   "cell_type": "markdown",
   "id": "834bab69-66d6-4a4e-9703-bc4055029385",
   "metadata": {},
   "source": [
    "![Снимок экрана 2023-12-10 в 15.11.20.png](attachment:57c2d6a1-d54c-474d-bba7-000d8184eda1.png)"
   ]
  },
  {
   "cell_type": "code",
   "execution_count": 1,
   "id": "a9eb39e6-3033-4ee4-a7d3-a5d3e765948d",
   "metadata": {},
   "outputs": [
    {
     "name": "stdin",
     "output_type": "stream",
     "text": [
      " 9\n",
      " 1 2 3 4 5 6 7 8 9\n",
      " 10\n",
      " pop\n",
      " remove 9\n",
      " discard 9 \n",
      " discard 8\n",
      " remove 7\n",
      " pop\n",
      " discard 6\n",
      " remove 5\n",
      " pop\n",
      " discard 5\n"
     ]
    },
    {
     "name": "stdout",
     "output_type": "stream",
     "text": [
      "4\n"
     ]
    }
   ],
   "source": [
    "### I did everything i could to solve this question, i think the code is right, i double checked it, used the visual studio's debugger and got the right answer, but unfortunately it doesnt  run in hackerrank. It says the output is 6, expected output:4. I am attaching the screenshot of vscode debugger.\n",
    "n = int(input())\n",
    "s = set(map(int, input().split()))\n",
    "N = int(input())\n",
    "\n",
    "for i in range(N):\n",
    "    command = input().split()\n",
    "    \n",
    "    if command[0] == \"pop\":\n",
    "        s.pop()\n",
    "    elif command[0] == \"remove\":\n",
    "        x = int(command[1])\n",
    "        if x in s:\n",
    "            s.remove(x)\n",
    "    elif command[0] == \"discard\":\n",
    "        x = int(command[1])\n",
    "        s.discard(x)\n",
    "\n",
    "print(sum(list(s)))"
   ]
  },
  {
   "cell_type": "markdown",
   "id": "fc12deb7-4000-49f2-8c74-322ad9a74746",
   "metadata": {},
   "source": [
    "#### Set.union() Operation"
   ]
  },
  {
   "cell_type": "code",
   "execution_count": 42,
   "id": "3f229b83-81fd-47dc-965d-63eb6ffbaaf2",
   "metadata": {},
   "outputs": [
    {
     "name": "stdin",
     "output_type": "stream",
     "text": [
      " 3\n",
      " 1 5 7\n",
      " 3\n",
      " 1 4 9\n"
     ]
    },
    {
     "name": "stdout",
     "output_type": "stream",
     "text": [
      "5\n"
     ]
    }
   ],
   "source": [
    "n = int(input())\n",
    "s1 = set(input().split())\n",
    "b = int(input())\n",
    "s2 = set(input().split())\n",
    "print (len(s1.union(s2)))\n"
   ]
  },
  {
   "cell_type": "markdown",
   "id": "29bafc57-eb95-4bd4-834b-0092024524f7",
   "metadata": {},
   "source": [
    "#### Set.intersaction() Operation"
   ]
  },
  {
   "cell_type": "code",
   "execution_count": 43,
   "id": "d0d30073-0d46-4169-aa90-8140b5fcd2bf",
   "metadata": {},
   "outputs": [
    {
     "name": "stdin",
     "output_type": "stream",
     "text": [
      " 3\n",
      " 1 2 3\n",
      " 3\n",
      " 1 5 7\n"
     ]
    },
    {
     "name": "stdout",
     "output_type": "stream",
     "text": [
      "1\n"
     ]
    }
   ],
   "source": [
    "n = int(input())\n",
    "s1 = set(input().split())\n",
    "b = int(input())\n",
    "s2 = set(input().split())\n",
    "print(len(s1.intersection(s2)))"
   ]
  },
  {
   "cell_type": "markdown",
   "id": "19bc68ac-5cff-4644-8e91-a3c6131f4e50",
   "metadata": {},
   "source": [
    "#### Set.difference() Operation"
   ]
  },
  {
   "cell_type": "code",
   "execution_count": 44,
   "id": "35eeb9ef-6666-46de-9e71-6d572f75aade",
   "metadata": {},
   "outputs": [
    {
     "name": "stdin",
     "output_type": "stream",
     "text": [
      " 9\n",
      " 1 2 3 4 5 6 7 8 9\n",
      " 9\n",
      " 10 1 2 3 11 21 55 6 8\n"
     ]
    },
    {
     "name": "stdout",
     "output_type": "stream",
     "text": [
      "4\n"
     ]
    }
   ],
   "source": [
    "n = int(input())\n",
    "s1 = set(input().split())\n",
    "b = int(input())\n",
    "s2 = set(input().split())\n",
    "print(len(s1.difference(s2)))\n"
   ]
  },
  {
   "cell_type": "markdown",
   "id": "5744f039-2138-4585-b2f3-0239cedcb482",
   "metadata": {},
   "source": [
    "#### Set.symmetric_difference() Operation"
   ]
  },
  {
   "cell_type": "code",
   "execution_count": 45,
   "id": "71b9ceee-1c66-4e8d-bee9-29a76cb0580d",
   "metadata": {},
   "outputs": [
    {
     "name": "stdin",
     "output_type": "stream",
     "text": [
      " 9\n",
      " 1 2 3 4 5 6 7 8 9\n",
      " 9\n",
      "  10 1 2 3 11 21 55 6 8\n"
     ]
    },
    {
     "name": "stdout",
     "output_type": "stream",
     "text": [
      "8\n"
     ]
    }
   ],
   "source": [
    "n = int(input())\n",
    "s1 = set(input().split())\n",
    "b = int(input())\n",
    "s2 = set(input().split())\n",
    "print(len(s1.symmetric_difference(s2)))\n"
   ]
  },
  {
   "cell_type": "markdown",
   "id": "3d2c3999-e29f-429c-9717-c972291a97e8",
   "metadata": {},
   "source": [
    "#### Set Mutations"
   ]
  },
  {
   "cell_type": "code",
   "execution_count": null,
   "id": "c2c58e7d-8b2e-4cc9-95b9-30fcc3e6f6ad",
   "metadata": {},
   "outputs": [],
   "source": [
    "n = int(input())\n",
    "a = set(input().split())\n",
    "\n",
    "for _ in range(int(input())):\n",
    "    op = input().split()\n",
    "    b = set(input().split())\n",
    "\n",
    "    if op[0] == 'intersection_update':\n",
    "        a.intersection_update(b)\n",
    "    elif op[0] == 'difference_update':\n",
    "        a.difference_update(b)\n",
    "    elif op[0] == 'symmetric_difference_update':\n",
    "        a.symmetric_difference_update(b)\n",
    "    elif op[0] == 'update':\n",
    "        a.update(b)\n",
    "print(sum(map(int, a)))\n"
   ]
  },
  {
   "cell_type": "markdown",
   "id": "df2d8948-98b5-4078-b3a2-9bc7f43d7967",
   "metadata": {},
   "source": [
    "#### The Captain's Room"
   ]
  },
  {
   "cell_type": "code",
   "execution_count": 47,
   "id": "28464d83-5869-4dd4-8edd-9a589c4b3c30",
   "metadata": {},
   "outputs": [
    {
     "name": "stdin",
     "output_type": "stream",
     "text": [
      " 5\n",
      " 1 2 3 6 5 4 4 2 5 3 6 1 6 5 3 2 4 1 2 5 1 4 3 6 8 4 3 1 5 6 2 \n"
     ]
    },
    {
     "name": "stdout",
     "output_type": "stream",
     "text": [
      "8\n"
     ]
    }
   ],
   "source": [
    "k = int(input())\n",
    "room_number = input().split()\n",
    "set1 = set()\n",
    "set2 = set()\n",
    "for room in room_number:\n",
    "    if room in set1:\n",
    "        set2.add(room)\n",
    "    else:\n",
    "        set1.add(room)\n",
    "caproom=set1-set2\n",
    "print(''.join(caproom))\n"
   ]
  },
  {
   "cell_type": "markdown",
   "id": "e81f6156-79c4-49e7-939b-694bc0e1493e",
   "metadata": {},
   "source": [
    "#### Check Subset"
   ]
  },
  {
   "cell_type": "code",
   "execution_count": null,
   "id": "1b328ab5-1722-4e4c-96ee-4c8b55578102",
   "metadata": {},
   "outputs": [],
   "source": [
    "t = int(input())\n",
    "for i in range (t):\n",
    "    n = int(input())\n",
    "    a = set(input().split())\n",
    "    m = int(input())\n",
    "    b = set(input().split())\n",
    "    print (a.issubset(b))"
   ]
  },
  {
   "cell_type": "markdown",
   "id": "daabe1ac-f408-4e26-856e-3312e0c0ee27",
   "metadata": {},
   "source": [
    "#### Check Strict Superset"
   ]
  },
  {
   "cell_type": "code",
   "execution_count": 2,
   "id": "a7c2db5f-94b2-4c4d-a272-f0622c0f815f",
   "metadata": {},
   "outputs": [
    {
     "name": "stdin",
     "output_type": "stream",
     "text": [
      " 1 2 3 4 5 6 7 8 9 10 11 12 23 45 84 78\n",
      " 2\n",
      " 1 2 3 4 5\n",
      " 100 11 12\n"
     ]
    },
    {
     "name": "stdout",
     "output_type": "stream",
     "text": [
      "False\n"
     ]
    }
   ],
   "source": [
    "A = set(input().split())\n",
    "n = int(input())\n",
    "res = []\n",
    "\n",
    "for i in range(n):\n",
    "    B = set(input().split())\n",
    "    res.append(A.issuperset(B))\n",
    "\n",
    "if False in res:\n",
    "    print(\"False\")\n",
    "else:\n",
    "    print(\"True\")"
   ]
  },
  {
   "cell_type": "markdown",
   "id": "3173f10b-aa5a-4d4e-93e6-55e64b8dddc6",
   "metadata": {},
   "source": [
    "### Collections"
   ]
  },
  {
   "cell_type": "markdown",
   "id": "8b546bec-7dec-48ff-8b54-852f30cdcc6b",
   "metadata": {},
   "source": [
    "#### Collections.namedtuple()"
   ]
  },
  {
   "cell_type": "code",
   "execution_count": null,
   "id": "cbe4901a-be2c-4545-be30-c5444c1f69df",
   "metadata": {},
   "outputs": [],
   "source": []
  },
  {
   "cell_type": "markdown",
   "id": "e6a5b13c-1ab7-4ac1-b912-96bb143de6c6",
   "metadata": {},
   "source": [
    "#### Collections.Counter()"
   ]
  },
  {
   "cell_type": "code",
   "execution_count": null,
   "id": "095060c5-5052-4d97-974c-3eb762e35788",
   "metadata": {},
   "outputs": [],
   "source": [
    "from collections import Counter\n",
    "x = int(input())\n",
    "shoe_size = map(int, input().split())\n",
    "shoe_ammount = Counter(shoe_size)\n",
    "n= int(input())\n",
    "cost = 0\n",
    "for _ in range(n):\n",
    "    size, price = map(int, input().split())\n",
    "    if shoe_ammount[size]:\n",
    "        cost += price\n",
    "        shoe_ammount[size] -= 1\n",
    "\n",
    "print(cost)"
   ]
  },
  {
   "cell_type": "markdown",
   "id": "789c0c33-21e1-4bf3-9402-42bbf1d3bbfe",
   "metadata": {},
   "source": [
    "#### DefaultDict Tutorial"
   ]
  },
  {
   "cell_type": "code",
   "execution_count": null,
   "id": "0215f685-a32d-4258-b2e1-27bab9a97f2b",
   "metadata": {},
   "outputs": [],
   "source": [
    "from collections import defaultdict\n",
    "n, m = map(int,(input().split()))\n",
    "d = defaultdict (list)\n",
    "for i in range (n):\n",
    "    d[input()].append(i+1)\n",
    "for j in range (m):\n",
    "    letter = input()\n",
    "    if letter in d:\n",
    "        print(*d[letter])\n",
    "    else:\n",
    "        print(-1)"
   ]
  },
  {
   "cell_type": "markdown",
   "id": "158b5aab-f3f8-4a56-ba7a-859dee20785f",
   "metadata": {},
   "source": [
    "#### Collections.OrderedDict()"
   ]
  },
  {
   "cell_type": "code",
   "execution_count": null,
   "id": "7dced31c-3eb6-49b9-a35f-2d94c24d5916",
   "metadata": {},
   "outputs": [],
   "source": []
  },
  {
   "cell_type": "markdown",
   "id": "73a3fd63-88e8-40f5-a6ba-4615793316ea",
   "metadata": {},
   "source": [
    "#### Word Order"
   ]
  },
  {
   "cell_type": "code",
   "execution_count": null,
   "id": "d948d851-7703-4690-956a-271b72351f1e",
   "metadata": {},
   "outputs": [],
   "source": []
  },
  {
   "cell_type": "markdown",
   "id": "fad0cde8-9343-4047-a0cc-1ddf75d895c9",
   "metadata": {},
   "source": [
    "#### Collection.deque()"
   ]
  },
  {
   "cell_type": "code",
   "execution_count": null,
   "id": "4b2a3e49-43f2-43e1-8b35-1fbcd6576d5d",
   "metadata": {},
   "outputs": [],
   "source": [
    "from collections import deque\n",
    "\n",
    "deque1 = deque()\n",
    "\n",
    "for i in range(int(input())):\n",
    "    command = input().split()\n",
    "\n",
    "    if command[0] == 'append':\n",
    "        deque1.append(command[1])\n",
    "\n",
    "    elif command[0] == 'appendleft':\n",
    "        deque1.appendleft(command[1])\n",
    "\n",
    "    elif command[0] == 'pop':\n",
    "        deque1.pop()\n",
    "    else:\n",
    "        deque1.popleft()\n",
    "print(' '.join(deque1))"
   ]
  },
  {
   "cell_type": "markdown",
   "id": "b4b7ba42-a9c1-4148-b4e0-036a1db04cac",
   "metadata": {},
   "source": [
    "#### Company Logo"
   ]
  },
  {
   "cell_type": "code",
   "execution_count": null,
   "id": "b8a433cc-17be-44c6-b1f6-c4a5a149279f",
   "metadata": {},
   "outputs": [],
   "source": []
  },
  {
   "cell_type": "markdown",
   "id": "02271ac4-bac3-45b1-96d8-1c9753433fb4",
   "metadata": {},
   "source": [
    "#### Pilling Up!"
   ]
  },
  {
   "cell_type": "code",
   "execution_count": null,
   "id": "e2222d86-e314-4e5f-b7d6-4589e61a7c3e",
   "metadata": {},
   "outputs": [],
   "source": []
  },
  {
   "cell_type": "markdown",
   "id": "c0283004-a194-4a14-94eb-fd75ae48482b",
   "metadata": {},
   "source": [
    "### Date and Time"
   ]
  },
  {
   "cell_type": "markdown",
   "id": "25a7870a-6d3e-4bbe-87f2-129d02bd9522",
   "metadata": {},
   "source": [
    "#### Time Delta"
   ]
  },
  {
   "cell_type": "code",
   "execution_count": null,
   "id": "922ac6aa-cf12-4430-aac4-7c2138bcd128",
   "metadata": {},
   "outputs": [],
   "source": []
  },
  {
   "cell_type": "markdown",
   "id": "e970a859-8a9d-41e5-972f-99fdac132e28",
   "metadata": {},
   "source": [
    "#### Calendar Module"
   ]
  },
  {
   "cell_type": "code",
   "execution_count": 58,
   "id": "c5281abe-8f1f-4e16-9ba0-e8a445fefc78",
   "metadata": {},
   "outputs": [
    {
     "name": "stdin",
     "output_type": "stream",
     "text": [
      " 01 17 2002\n"
     ]
    },
    {
     "name": "stdout",
     "output_type": "stream",
     "text": [
      "THURSDAY\n"
     ]
    }
   ],
   "source": [
    "import calendar\n",
    "m, d, y=map(int, input().split())\n",
    "dayname=(calendar.day_name[calendar.weekday(y, m, d)]).upper()\n",
    "print(dayname)\n"
   ]
  },
  {
   "cell_type": "markdown",
   "id": "12a9262d-654c-48db-b9e6-aff56f8d878e",
   "metadata": {},
   "source": [
    "### Errors and Exceptions"
   ]
  },
  {
   "cell_type": "markdown",
   "id": "6fa99091-5ad2-4008-b49f-979d0563542e",
   "metadata": {},
   "source": [
    "#### Exceptions"
   ]
  },
  {
   "cell_type": "code",
   "execution_count": 59,
   "id": "8c13f4b6-84f2-417e-9658-8e0c9123ad45",
   "metadata": {},
   "outputs": [
    {
     "name": "stdin",
     "output_type": "stream",
     "text": [
      " 3\n",
      " 1 0\n"
     ]
    },
    {
     "name": "stdout",
     "output_type": "stream",
     "text": [
      "Error Code: integer division or modulo by zero\n"
     ]
    },
    {
     "name": "stdin",
     "output_type": "stream",
     "text": [
      " 2 $\n"
     ]
    },
    {
     "name": "stdout",
     "output_type": "stream",
     "text": [
      "Error Code: invalid literal for int() with base 10: '$'\n"
     ]
    },
    {
     "name": "stdin",
     "output_type": "stream",
     "text": [
      " 3 1\n"
     ]
    },
    {
     "name": "stdout",
     "output_type": "stream",
     "text": [
      "3\n"
     ]
    }
   ],
   "source": [
    "t = int(input())\n",
    "for i in range (t):\n",
    "    a, b = input().split()\n",
    "    try:\n",
    "        print(int(a) // int(b))\n",
    "    except ZeroDivisionError as e:\n",
    "        print('Error Code: ' + str(e))\n",
    "    except ValueError as e:\n",
    "        print('Error Code: ' +str(e))\n"
   ]
  },
  {
   "cell_type": "markdown",
   "id": "581bb354-930b-4b04-b70d-0edc1bf7536b",
   "metadata": {},
   "source": [
    "### Built-ins"
   ]
  },
  {
   "cell_type": "markdown",
   "id": "1f8c7479-6055-47a5-a6c0-220d300dc9a0",
   "metadata": {},
   "source": [
    "#### Zipped!"
   ]
  },
  {
   "cell_type": "code",
   "execution_count": null,
   "id": "1ba91036-8ce3-457c-8821-42904d37142c",
   "metadata": {},
   "outputs": [],
   "source": [
    "n, x = map(int, input().split())\n",
    "\n",
    "score = []\n",
    "for _ in range(x):\n",
    "    score.append(map(float, input().split()))\n",
    "\n",
    "for i in zip(*score):\n",
    "    print(sum(i) / len(i))"
   ]
  },
  {
   "cell_type": "markdown",
   "id": "e0953a1d-8110-4b62-b0f5-0adac17fbc8c",
   "metadata": {},
   "source": [
    "#### Athlete Sort"
   ]
  },
  {
   "cell_type": "code",
   "execution_count": null,
   "id": "292e5a81-91a2-4dc1-9bae-3f3e627bdb24",
   "metadata": {},
   "outputs": [],
   "source": [
    "#!/bin/python3\n",
    "\n",
    "import math\n",
    "import os\n",
    "import random\n",
    "import re\n",
    "import sys\n",
    "\n",
    "\n",
    "\n",
    "if __name__ == '__main__':\n",
    "    first_multiple_input = input().rstrip().split()\n",
    "\n",
    "    n = int(first_multiple_input[0])\n",
    "\n",
    "    m = int(first_multiple_input[1])\n",
    "\n",
    "    arr = []\n",
    "\n",
    "    for _ in range(n):\n",
    "        arr.append(list(map(int, input().rstrip().split())))\n",
    "\n",
    "    k = int(input().strip())\n",
    "    arr.sort(key=lambda row: row[k])\n",
    "    for row in arr:\n",
    "        print(*row)\n"
   ]
  },
  {
   "cell_type": "markdown",
   "id": "e26e7c0d-f8fe-4f06-bb7d-325220316a69",
   "metadata": {},
   "source": [
    "### ginortS"
   ]
  },
  {
   "cell_type": "code",
   "execution_count": null,
   "id": "7b1f54e7-4ea2-4f3c-94c5-84a416e53035",
   "metadata": {},
   "outputs": [],
   "source": [
    "s = input()\n",
    "lc = sorted([i for i in s if i.islower()])\n",
    "uc = sorted([i for i in s if i.isupper()])\n",
    "odd = sorted([i for i in s if i.isdigit() and int(i) % 2 != 0])\n",
    "even = sorted([i for i in s if i.isdigit() and int(i) % 2 == 0])\n",
    "\n",
    "print(''.join(lc +uc +odd + even))"
   ]
  },
  {
   "cell_type": "markdown",
   "id": "ef51d9a8-e307-4bc9-803d-a78a83ba4b34",
   "metadata": {},
   "source": [
    "### Python Functionals"
   ]
  },
  {
   "cell_type": "markdown",
   "id": "7dd1d383-42ca-495e-90ef-3f236901572a",
   "metadata": {},
   "source": [
    "#### Map and Lambda Function"
   ]
  },
  {
   "cell_type": "code",
   "execution_count": null,
   "id": "054c6bea-31cf-4c97-8d93-a1db6f883de1",
   "metadata": {},
   "outputs": [],
   "source": [
    "cube = lambda x: x ** 3\n",
    "\n",
    "def fibonacci(n):\n",
    "    fib = [0, 1]\n",
    "    for i in range(2, n):\n",
    "        fib.append(fib[-1] + fib[-2])\n",
    "    return fib[:n]\n",
    "\n",
    "\n",
    "if __name__ == '__main__':\n",
    "    n = int(input())\n",
    "    print(list(map(cube, fibonacci(n))))"
   ]
  },
  {
   "cell_type": "markdown",
   "id": "b0e37fa0-7309-4748-9019-cc3cee8a00b8",
   "metadata": {},
   "source": [
    "### Regex and Parsing"
   ]
  },
  {
   "cell_type": "markdown",
   "id": "9a375134-1e6e-41f0-9f4c-169d29bce8a8",
   "metadata": {},
   "source": [
    "In all regex question i used documentation and explanating to understand how it works."
   ]
  },
  {
   "cell_type": "markdown",
   "id": "261c1534-757d-490b-970e-135471b017e1",
   "metadata": {},
   "source": [
    "#### Detect Floating Point Number"
   ]
  },
  {
   "cell_type": "code",
   "execution_count": null,
   "id": "ed56526b-f09d-4be0-bd1f-6f59af4adcc3",
   "metadata": {},
   "outputs": [],
   "source": [
    "import re\n",
    "T = int(input())\n",
    "requirements = \"^([\\+\\-]){0,1}\\d*\\.\\d+$\"\n",
    "for i in range(T):\n",
    "    n = input()\n",
    "    print(bool(re.match(requirements,n)))"
   ]
  },
  {
   "cell_type": "markdown",
   "id": "0e247f0c-a237-46df-95f2-64fd2a467503",
   "metadata": {},
   "source": [
    "#### Re.split()"
   ]
  },
  {
   "cell_type": "code",
   "execution_count": null,
   "id": "27275fdc-e128-485c-8d2f-4e0b1a810bbd",
   "metadata": {},
   "outputs": [],
   "source": [
    "regex_pattern = r\"[,.]\"\n",
    "\n",
    "import re\n",
    "print(\"\\n\".join(re.split(regex_pattern, input())))"
   ]
  },
  {
   "cell_type": "markdown",
   "id": "7dd7274d-7f7f-421d-a7b2-369c0ff1e142",
   "metadata": {},
   "source": [
    "#### Group(), Groups() & Groupdict()"
   ]
  },
  {
   "cell_type": "code",
   "execution_count": null,
   "id": "e09fcbc7-ce93-4f44-85b3-9b1f47658e3a",
   "metadata": {},
   "outputs": [],
   "source": [
    "import re\n",
    "m = re.match(r'.*?([^\\W_])\\1.*', input())\n",
    "print(m.group(1) if m else -1)"
   ]
  },
  {
   "cell_type": "markdown",
   "id": "a3eb1843-3577-42c6-9bfb-78c2a812a68d",
   "metadata": {},
   "source": [
    "#### Re.findall() & Re.finditer()"
   ]
  },
  {
   "cell_type": "code",
   "execution_count": null,
   "id": "b1bfff05-2bf6-4d35-b6af-22a7282cc088",
   "metadata": {},
   "outputs": [],
   "source": [
    "import re\n",
    "s =input()\n",
    "vowels = \"aeiou\"\n",
    "consonants = \"qwrtypsdfghjklzxcvbnm\"\n",
    "n = re.findall(r\"(?<=[%s])([%s]{2,})[%s]\" % (consonants, vowels, consonants), s, flags = re.IGNORECASE)\n",
    "print('\\n'.join(n or ['-1']))s"
   ]
  },
  {
   "cell_type": "markdown",
   "id": "da2ecd8a-5be5-4239-b3ca-d3e132111110",
   "metadata": {},
   "source": [
    "#### Re.start() & Re.end()"
   ]
  },
  {
   "cell_type": "code",
   "execution_count": null,
   "id": "95ad3079-4006-4f1a-af5a-60f046eb3545",
   "metadata": {},
   "outputs": [],
   "source": [
    "import re\n",
    "s = input()\n",
    "k = input()\n",
    "pattern = re.compile(k)\n",
    "x = pattern.search(s)\n",
    "\n",
    "if not x:\n",
    "    print(\"(-1, -1)\")\n",
    "else:\n",
    "    while x:\n",
    "        print(\"({0}, {1})\".format(x.start(), x.end() - 1))\n",
    "        x = pattern.search(s,x.start() + 1)"
   ]
  },
  {
   "cell_type": "markdown",
   "id": "8f488f77-aeb6-4d98-96d0-4b5534ca93e2",
   "metadata": {},
   "source": [
    "#### Regex Substitution"
   ]
  },
  {
   "cell_type": "code",
   "execution_count": null,
   "id": "19280051-40c7-4ad1-9fbf-8895487f391c",
   "metadata": {},
   "outputs": [],
   "source": []
  },
  {
   "cell_type": "markdown",
   "id": "bd1592d4-ceaf-4514-b263-5b7a8dc5e6ee",
   "metadata": {},
   "source": [
    "#### Validating Roman Numerals"
   ]
  },
  {
   "cell_type": "code",
   "execution_count": null,
   "id": "d7b24931-3f7d-489e-bb98-a6fb11dbaeac",
   "metadata": {},
   "outputs": [],
   "source": [
    "regex_pattern = r\"^(M){0,3}(CM)?(D)?(CD)?(C){0,3}(XC)?(L)?(XL)?(X){0,3}(IX)?(V)?(IV)?(I){0,3}$\"\t# Do not delete 'r'.\n",
    "\n",
    "import re\n",
    "print(str(bool(re.match(regex_pattern, input()))))"
   ]
  },
  {
   "cell_type": "markdown",
   "id": "a25a62a0-4c9d-4972-99e9-67186f0f6601",
   "metadata": {},
   "source": [
    "#### Validating phone numbers"
   ]
  },
  {
   "cell_type": "code",
   "execution_count": null,
   "id": "20202604-a751-45c4-83b6-f5f31871fa4c",
   "metadata": {},
   "outputs": [],
   "source": [
    "import re\n",
    "for i in range (0,int(input())):\n",
    "    n =input()\n",
    "    if re.search(r'^[7,8,9][0-9]{9}$',n):\n",
    "        print(\"YES\")\n",
    "    else:\n",
    "        print(\"NO\")"
   ]
  },
  {
   "cell_type": "markdown",
   "id": "f5fa31ee-d9c9-4b9c-91ae-da176ab29d87",
   "metadata": {},
   "source": [
    "#### Validating and Parsing Email Addresses"
   ]
  },
  {
   "cell_type": "code",
   "execution_count": null,
   "id": "22b85196-a12c-4da0-81bd-4111a9c5523b",
   "metadata": {},
   "outputs": [],
   "source": []
  },
  {
   "cell_type": "markdown",
   "id": "360e9be4-12b5-4db5-b110-0cb23769a55f",
   "metadata": {},
   "source": [
    "#### Hex Color Code"
   ]
  },
  {
   "cell_type": "code",
   "execution_count": null,
   "id": "deadf387-532c-4e27-a388-7731e6fa2883",
   "metadata": {},
   "outputs": [],
   "source": []
  },
  {
   "cell_type": "markdown",
   "id": "95b0a2ab-0e68-448b-9c75-162b6b379c3a",
   "metadata": {},
   "source": [
    "#### HTML Parser - Part 1"
   ]
  },
  {
   "cell_type": "code",
   "execution_count": null,
   "id": "e8116e8f-24fe-4584-a591-4ea66801d7ef",
   "metadata": {},
   "outputs": [],
   "source": []
  },
  {
   "cell_type": "markdown",
   "id": "299ea466-4397-4c1b-9fdf-155f59470fb1",
   "metadata": {},
   "source": [
    "#### HTML Parser - Part 2"
   ]
  },
  {
   "cell_type": "code",
   "execution_count": null,
   "id": "d20af4e1-64e5-4712-b79a-a10dc13e4ff0",
   "metadata": {},
   "outputs": [],
   "source": []
  },
  {
   "cell_type": "markdown",
   "id": "b5ab626b-9395-4d76-bb12-5e38ca2265b0",
   "metadata": {},
   "source": [
    "#### Detect HTML Tags, Attributes and Attribute Values"
   ]
  },
  {
   "cell_type": "code",
   "execution_count": null,
   "id": "88b38f69-1539-483d-b7ec-8749ea3427af",
   "metadata": {},
   "outputs": [],
   "source": []
  },
  {
   "cell_type": "markdown",
   "id": "9b39865f-c2a4-41a7-b097-c8d12741aa6b",
   "metadata": {},
   "source": [
    "#### Validating UID"
   ]
  },
  {
   "cell_type": "code",
   "execution_count": null,
   "id": "59f00f2e-8c2c-405c-8e40-4f747cb99916",
   "metadata": {},
   "outputs": [],
   "source": []
  },
  {
   "cell_type": "markdown",
   "id": "87ac9973-a059-4684-a6f8-b08a028a814b",
   "metadata": {},
   "source": [
    "#### Validating Credit Card Numbers"
   ]
  },
  {
   "cell_type": "code",
   "execution_count": null,
   "id": "314a64e7-c96f-457c-9035-1ee7036accef",
   "metadata": {},
   "outputs": [],
   "source": []
  },
  {
   "cell_type": "markdown",
   "id": "631c0915-07a5-4b78-9b9c-60ebfade3175",
   "metadata": {},
   "source": [
    "#### Validating Postal Codes"
   ]
  },
  {
   "cell_type": "code",
   "execution_count": null,
   "id": "0b9f10f0-b08a-4b00-a438-01021bf9a8d2",
   "metadata": {},
   "outputs": [],
   "source": []
  },
  {
   "cell_type": "markdown",
   "id": "df94c68d-69cb-4f14-b295-f014e9bb5e42",
   "metadata": {},
   "source": [
    "#### Matrix Script"
   ]
  },
  {
   "cell_type": "code",
   "execution_count": null,
   "id": "83b591d6-ad28-4854-8b78-c582f649315b",
   "metadata": {},
   "outputs": [],
   "source": []
  },
  {
   "cell_type": "markdown",
   "id": "fb9ee9f3-5ce8-404d-9677-83b83c4c6edd",
   "metadata": {},
   "source": [
    "### XML"
   ]
  },
  {
   "cell_type": "markdown",
   "id": "6614ba8b-d728-4d9d-8c02-713e4c94f9e0",
   "metadata": {},
   "source": [
    "#### XML1 - Find the Score"
   ]
  },
  {
   "cell_type": "code",
   "execution_count": null,
   "id": "6ca98406-631f-4d2b-89f7-0131880e9630",
   "metadata": {},
   "outputs": [],
   "source": [
    "import sys\n",
    "import xml.etree.ElementTree as etree\n",
    "\n",
    "def get_attr_number(node):\n",
    "    count = 0 \n",
    "    count +=len(node.attrib)\n",
    "    for tag in node:\n",
    "        count += get_attr_number(tag)\n",
    "    return count\n",
    "\n",
    "if __name__ == '__main__':\n",
    "    sys.stdin.readline()\n",
    "    xml = sys.stdin.read()\n",
    "    tree = etree.ElementTree(etree.fromstring(xml))\n",
    "    root = tree.getroot()\n",
    "    print(get_attr_number(root))"
   ]
  },
  {
   "cell_type": "markdown",
   "id": "85c6e73a-a3e0-46da-bd6c-0e7bcc03cbb5",
   "metadata": {},
   "source": [
    "#### XML2 - Find the Maximum Depth"
   ]
  },
  {
   "cell_type": "code",
   "execution_count": null,
   "id": "2aeabbb5-1b64-477a-bf59-59f699c97d43",
   "metadata": {},
   "outputs": [],
   "source": [
    "import xml.etree.ElementTree as etree\n",
    "\n",
    "maxdepth = 0\n",
    "def depth(elem, level):\n",
    "    global maxdepth\n",
    "    level += 1\n",
    "    if level > maxdepth:\n",
    "        maxdepth = level\n",
    "\n",
    "    for child in elem:\n",
    "        depth(child, level)\n",
    "\n",
    "if __name__ == '__main__':\n",
    "    n = int(input())\n",
    "    xml = \"\"\n",
    "    for i in range(n):\n",
    "        xml =  xml + input() + \"\\n\"\n",
    "    tree = etree.ElementTree(etree.fromstring(xml))\n",
    "    depth(tree.getroot(), -1)\n",
    "    print(maxdepth)"
   ]
  },
  {
   "cell_type": "markdown",
   "id": "d07a0654-5c94-4c86-b0f5-48a0c013cf81",
   "metadata": {},
   "source": [
    "### Closures and Decorators"
   ]
  },
  {
   "cell_type": "markdown",
   "id": "6d4ddf30-0073-465c-823b-05264e32afde",
   "metadata": {},
   "source": [
    "#### Standardize Mobile Numbers using Decorators"
   ]
  },
  {
   "cell_type": "code",
   "execution_count": null,
   "id": "6f696826-36ca-46c3-b089-fc47706abf99",
   "metadata": {},
   "outputs": [],
   "source": [
    "def wrapper(f):\n",
    "    def fun(l):\n",
    "        f([\"+91 \" + c[-10:-5] + \" \" + c[-5:] for c in l])\n",
    "    return fun\n",
    "\n",
    "@wrapper\n",
    "def sort_phone(l):\n",
    "    print(*sorted(l), sep='\\n')\n",
    "\n",
    "if __name__ == '__main__':\n",
    "    l = [input() for _ in range(int(input()))]\n",
    "    sort_phone(l) "
   ]
  },
  {
   "cell_type": "markdown",
   "id": "3965aaa8-833c-4d37-81ce-126c82fe2157",
   "metadata": {},
   "source": [
    "#### Decorators 2 - Name Directory"
   ]
  },
  {
   "cell_type": "code",
   "execution_count": null,
   "id": "3e3d98ab-b18b-4236-b2db-be515604a405",
   "metadata": {},
   "outputs": [],
   "source": [
    "import operator\n",
    "\n",
    "def person_lister(f):\n",
    "    def inner(people):\n",
    "        return map(f, sorted(people, key= lambda p: int(p[2]))) # sort on age\n",
    "    return inner\n",
    "     \n",
    "\n",
    "@person_lister\n",
    "def name_format(person):\n",
    "    return (\"Mr. \" if person[3] == \"M\" else \"Ms. \") + person[0] + \" \" + person[1]\n",
    "\n",
    "if __name__ == '__main__':\n",
    "    people = [input().split() for i in range(int(input()))]\n",
    "    print(*name_format(people), sep='\\n')"
   ]
  },
  {
   "cell_type": "markdown",
   "id": "225eaf3b-f400-4366-9453-bc59b481f918",
   "metadata": {},
   "source": [
    "### Numpy"
   ]
  },
  {
   "cell_type": "markdown",
   "id": "c83291d4-8581-4b2c-afbb-6648849f2abd",
   "metadata": {},
   "source": [
    "#### Arrays"
   ]
  },
  {
   "cell_type": "code",
   "execution_count": 94,
   "id": "dbd2a8aa-b054-4168-ac0f-ff72b1337c70",
   "metadata": {},
   "outputs": [
    {
     "name": "stdin",
     "output_type": "stream",
     "text": [
      " 1 2 3 4 -8 -10\n"
     ]
    },
    {
     "name": "stdout",
     "output_type": "stream",
     "text": [
      "[-10.  -8.   4.   3.   2.   1.]\n"
     ]
    }
   ],
   "source": [
    "import numpy\n",
    "\n",
    "def arrays(arr):\n",
    "    # complete this function\n",
    "    array =numpy.array(arr, float)\n",
    "    return numpy.flip(array)\n",
    "\n",
    "arr = input().strip().split(' ')\n",
    "result = arrays(arr)\n",
    "print(result)"
   ]
  },
  {
   "cell_type": "markdown",
   "id": "fb87f701-2f18-4a48-8730-eccb144f818b",
   "metadata": {},
   "source": [
    "#### Shape and Reshape"
   ]
  },
  {
   "cell_type": "code",
   "execution_count": 96,
   "id": "d0d31a12-53ca-471d-950f-8065a48f25d7",
   "metadata": {},
   "outputs": [
    {
     "name": "stdin",
     "output_type": "stream",
     "text": [
      " 1 2 3 4 5 6 7 8 9\n"
     ]
    },
    {
     "name": "stdout",
     "output_type": "stream",
     "text": [
      "[[1 2 3]\n",
      " [4 5 6]\n",
      " [7 8 9]]\n"
     ]
    }
   ],
   "source": [
    "import numpy as np \n",
    "arr = np.array(input().split(), int)\n",
    "print(np.reshape(arr, (3, 3)))"
   ]
  },
  {
   "cell_type": "markdown",
   "id": "0157c073-0d43-4e1f-8fff-5c042acdfd24",
   "metadata": {},
   "source": [
    "#### Transpose and Flatten"
   ]
  },
  {
   "cell_type": "code",
   "execution_count": 98,
   "id": "37d70174-22c7-4bd4-9508-d91aaf283af6",
   "metadata": {},
   "outputs": [
    {
     "name": "stdin",
     "output_type": "stream",
     "text": [
      " 2 2\n",
      " 1 2\n",
      " 3 4\n"
     ]
    },
    {
     "name": "stdout",
     "output_type": "stream",
     "text": [
      "[[1 3]\n",
      " [2 4]]\n",
      "[1 2 3 4]\n"
     ]
    }
   ],
   "source": [
    "import numpy as np\n",
    "n, m = map(int,input().split())\n",
    "list1 = []\n",
    "for i in range (n):\n",
    "    list1.append(list(map(int, input().split())))\n",
    "arr = np.array(list1)\n",
    "print(np.transpose(arr))\n",
    "print(arr.flatten())"
   ]
  },
  {
   "cell_type": "markdown",
   "id": "2a71995c-8ca7-44c9-8483-a2ca5ed89d38",
   "metadata": {},
   "source": [
    "#### Concatenate"
   ]
  },
  {
   "cell_type": "code",
   "execution_count": null,
   "id": "8813172c-84ef-4ee5-82a2-6827f02743a6",
   "metadata": {},
   "outputs": [],
   "source": [
    "import numpy as np\n",
    "N, M, P = list(map(int, input().split()))\n",
    "arr1 = np.array([input().split() for _ in range(N)], dtype='int')\n",
    "arr2 = np.array([input().split() for _ in range(M)], dtype='int')\n",
    "print(np.concatenate((arr1, arr2), axis=0))"
   ]
  },
  {
   "cell_type": "markdown",
   "id": "6f82e17c-4860-421d-bb43-01dbd3adb93b",
   "metadata": {},
   "source": [
    "#### Zeros and Ones"
   ]
  },
  {
   "cell_type": "code",
   "execution_count": null,
   "id": "2a45149c-9bdd-4389-93c7-629b1bc18a06",
   "metadata": {},
   "outputs": [],
   "source": [
    "import numpy as np \n",
    "arr = np.array(input().split(), int)\n",
    "print (np.zeros(arr, dtype = np.int))\n",
    "print (np.ones(arr, dtype = np.int))"
   ]
  },
  {
   "cell_type": "markdown",
   "id": "31177cde-a408-4759-87ce-d5bcf3bd6374",
   "metadata": {},
   "source": [
    "#### Eye and Identity"
   ]
  },
  {
   "cell_type": "code",
   "execution_count": 101,
   "id": "24d81607-8098-42a6-8af6-fc44a9ea6594",
   "metadata": {},
   "outputs": [
    {
     "name": "stdin",
     "output_type": "stream",
     "text": [
      " 3 3\n"
     ]
    },
    {
     "name": "stdout",
     "output_type": "stream",
     "text": [
      "[[ 1.  0.  0.]\n",
      " [ 0.  1.  0.]\n",
      " [ 0.  0.  1.]]\n"
     ]
    }
   ],
   "source": [
    "import numpy as np\n",
    "np.set_printoptions(legacy=\"1.13\")\n",
    "n, m = map(int, input().split())\n",
    "print (np.eye (n, m, k = 0))\n"
   ]
  },
  {
   "cell_type": "markdown",
   "id": "9b72b0f4-c804-4dea-9a59-06544720f7f3",
   "metadata": {},
   "source": [
    "#### Array Mathematics"
   ]
  },
  {
   "cell_type": "code",
   "execution_count": 102,
   "id": "d41ff0af-3216-44a1-993f-3a5aba21215d",
   "metadata": {},
   "outputs": [
    {
     "name": "stdin",
     "output_type": "stream",
     "text": [
      " 1 4\n",
      " 1 2 3 4 \n",
      " 5 6 7 8\n"
     ]
    },
    {
     "name": "stdout",
     "output_type": "stream",
     "text": [
      "[[ 6  8 10 12]]\n",
      "[[-4 -4 -4 -4]]\n",
      "[[ 5 12 21 32]]\n",
      "[[0 0 0 0]]\n",
      "[[1 2 3 4]]\n",
      "[[    1    64  2187 65536]]\n"
     ]
    }
   ],
   "source": [
    "import numpy as np \n",
    "n, m = map(int, input().split())\n",
    "a = np.array([input().split() for _ in range(n)], int)\n",
    "b = np.array([input().split() for _ in range (n)], int)\n",
    "print(a+b, a-b, a*b, a//b, a%b, a**b, sep=\"\\n\")"
   ]
  },
  {
   "cell_type": "markdown",
   "id": "5ae1d603-75b2-4a03-95e8-93ef00ff0151",
   "metadata": {},
   "source": [
    "#### Floor, Ceil and Rint"
   ]
  },
  {
   "cell_type": "code",
   "execution_count": 104,
   "id": "78d78b37-7eba-4e2e-9eee-7ad0b083c3c6",
   "metadata": {},
   "outputs": [
    {
     "name": "stdin",
     "output_type": "stream",
     "text": [
      " 1.1 2.2 3.3 4.4 5.5 6.6 7.7 8.8 9.9\n"
     ]
    },
    {
     "name": "stdout",
     "output_type": "stream",
     "text": [
      "[ 1.  2.  3.  4.  5.  6.  7.  8.  9.]\n",
      "[  2.   3.   4.   5.   6.   7.   8.   9.  10.]\n",
      "[  1.   2.   3.   4.   6.   7.   8.   9.  10.]\n"
     ]
    }
   ],
   "source": [
    "import numpy as np\n",
    "np.set_printoptions(legacy = '1.13')\n",
    "a = np.array(input().split(), float)\n",
    "print(np.floor(a), np.ceil(a), np.rint(a), sep='\\n')"
   ]
  },
  {
   "cell_type": "markdown",
   "id": "3e90e175-4343-4def-b75b-fd18a7fd87a9",
   "metadata": {},
   "source": [
    "#### Sum and Prod"
   ]
  },
  {
   "cell_type": "code",
   "execution_count": 105,
   "id": "68c5f367-49ad-4cc7-9baf-bba544e2237e",
   "metadata": {},
   "outputs": [
    {
     "name": "stdin",
     "output_type": "stream",
     "text": [
      " 2 2 \n",
      " 1 2 \n",
      " 3 4\n"
     ]
    },
    {
     "name": "stdout",
     "output_type": "stream",
     "text": [
      "24\n"
     ]
    }
   ],
   "source": [
    "import numpy as np\n",
    "n, m = map (int, input().split())\n",
    "arr = np.array([input().split() for _ in range (n)], int)\n",
    "print(np.prod(np.sum(arr, axis = 0)))"
   ]
  },
  {
   "cell_type": "markdown",
   "id": "0aa832f9-7048-4db4-999b-e5175a0a2997",
   "metadata": {},
   "source": [
    "#### Min and Max"
   ]
  },
  {
   "cell_type": "code",
   "execution_count": 106,
   "id": "a3ee8e72-c2d6-45b7-b0fe-307d8e1d6073",
   "metadata": {},
   "outputs": [
    {
     "name": "stdin",
     "output_type": "stream",
     "text": [
      " 4 2\n",
      " 2 4\n",
      " 1 6\n",
      " 2 7\n",
      " 3 5\n"
     ]
    },
    {
     "name": "stdout",
     "output_type": "stream",
     "text": [
      "3\n"
     ]
    }
   ],
   "source": [
    "import numpy as np\n",
    "n, m = map(int, input().split())\n",
    "arr= np.array([input().split() for _ in range (n)],int )\n",
    "print(np.max(np.min(arr, axis =1)))\n"
   ]
  },
  {
   "cell_type": "markdown",
   "id": "c8f0e249-cb38-4aa2-b1be-4362d5349ca5",
   "metadata": {},
   "source": [
    "#### Mean, Var and Std"
   ]
  },
  {
   "cell_type": "code",
   "execution_count": 107,
   "id": "305a3746-a7d3-4be2-b545-22e787c85b56",
   "metadata": {},
   "outputs": [
    {
     "name": "stdin",
     "output_type": "stream",
     "text": [
      " 2 2\n",
      " 1 2\n",
      " 3 4\n"
     ]
    },
    {
     "name": "stdout",
     "output_type": "stream",
     "text": [
      "[ 1.5  3.5]\n",
      "[ 1.  1.]\n",
      "1.11803398875\n"
     ]
    }
   ],
   "source": [
    "import numpy as np \n",
    "n, m = map(int,input().split())\n",
    "arr = np.array([input().split() for _ in range(n)], int)\n",
    "print (np.mean(arr, axis = 1))\n",
    "print (np.var(arr, axis =0))\n",
    "print (round(np.std(arr, axis = None), 11))"
   ]
  },
  {
   "cell_type": "markdown",
   "id": "dd3a83d4-62e5-4fe5-b49b-6ed94b0eadef",
   "metadata": {},
   "source": [
    "#### Dot and Cross"
   ]
  },
  {
   "cell_type": "code",
   "execution_count": 108,
   "id": "cfd4bda6-c313-4661-8582-6a4bb4c685dc",
   "metadata": {},
   "outputs": [
    {
     "name": "stdin",
     "output_type": "stream",
     "text": [
      " 2\n",
      " 1 2\n",
      " 3 4\n",
      " 1 2\n",
      " 3 4\n"
     ]
    },
    {
     "name": "stdout",
     "output_type": "stream",
     "text": [
      "[[ 7 10]\n",
      " [15 22]]\n"
     ]
    }
   ],
   "source": [
    "import numpy as np\n",
    "n = int(input())\n",
    "a =np.array([input().split() for _ in range (n)], int)\n",
    "b =np.array([input().split() for _ in range (n)], int)\n",
    "print (np.dot(a,b))"
   ]
  },
  {
   "cell_type": "markdown",
   "id": "4fa5f2e7-69d9-4a74-9af6-f3afbc8fcd55",
   "metadata": {},
   "source": [
    "#### Inner and Outer"
   ]
  },
  {
   "cell_type": "code",
   "execution_count": 109,
   "id": "e2701881-d6f0-443f-8e2d-6f661edbe8fb",
   "metadata": {},
   "outputs": [
    {
     "name": "stdin",
     "output_type": "stream",
     "text": [
      " 0 1\n",
      " 2 3\n"
     ]
    },
    {
     "name": "stdout",
     "output_type": "stream",
     "text": [
      "3\n",
      "[[0 0]\n",
      " [2 3]]\n"
     ]
    }
   ],
   "source": [
    "import numpy as np\n",
    "a = np.array(input().split(), int)\n",
    "b = np.array (input().split(), int)\n",
    "print (np.inner(a,b))\n",
    "print (np.outer(a,b))"
   ]
  },
  {
   "cell_type": "markdown",
   "id": "09a58a3a-c038-4c60-9b64-4f7906e56604",
   "metadata": {},
   "source": [
    "#### Polynomials"
   ]
  },
  {
   "cell_type": "code",
   "execution_count": 110,
   "id": "d7ee0bed-154b-46b2-a3a9-905433f4ff3b",
   "metadata": {},
   "outputs": [
    {
     "name": "stdin",
     "output_type": "stream",
     "text": [
      " 1.1 2 3\n",
      " 0\n"
     ]
    },
    {
     "name": "stdout",
     "output_type": "stream",
     "text": [
      "3.0\n"
     ]
    }
   ],
   "source": [
    "import numpy as np\n",
    "p = np.array(input().split(), float)\n",
    "x = int(input())\n",
    "print(np.polyval(p,x))"
   ]
  },
  {
   "cell_type": "markdown",
   "id": "3e1ffab7-5405-44ab-b661-d90b2d014127",
   "metadata": {},
   "source": [
    "#### Linear Algebra"
   ]
  },
  {
   "cell_type": "code",
   "execution_count": 111,
   "id": "eceff4bf-b13f-44cd-8240-9db860db1795",
   "metadata": {},
   "outputs": [
    {
     "name": "stdin",
     "output_type": "stream",
     "text": [
      " 2\n",
      " 1.1 1.1\n",
      " 1.1 1.1\n"
     ]
    },
    {
     "name": "stdout",
     "output_type": "stream",
     "text": [
      "0.0\n"
     ]
    }
   ],
   "source": [
    "import numpy as np \n",
    "n = int(input())\n",
    "arr = np.array([input().split() for _ in range (n)], float)\n",
    "print (round(np.linalg.det(arr), 2))"
   ]
  },
  {
   "cell_type": "markdown",
   "id": "0c4f5336-dd50-4f82-b026-6495b5967ffa",
   "metadata": {},
   "source": [
    "### Problem 2"
   ]
  },
  {
   "cell_type": "markdown",
   "id": "7867ea70-35b8-4baa-abbc-9b14a319fb2b",
   "metadata": {},
   "source": [
    "#### Birthday Cake Candles"
   ]
  },
  {
   "cell_type": "code",
   "execution_count": null,
   "id": "d54733a8-e1b9-4bb8-8b76-3445e491d118",
   "metadata": {},
   "outputs": [],
   "source": [
    "import math\n",
    "import os\n",
    "import random\n",
    "import re\n",
    "import sys\n",
    "\n",
    "#\n",
    "# Complete the 'birthdayCakeCandles' function below.\n",
    "#\n",
    "# The function is expected to return an INTEGER.\n",
    "# The function accepts INTEGER_ARRAY candles as parameter.\n",
    "#\n",
    "\n",
    "\n",
    "def birthdayCakeCandles(candles):\n",
    "    tallest = max(candles)\n",
    "    return candles.count(tallest)\n",
    "\n",
    "if __name__ == '__main__':\n",
    "    fptr = open(os.environ['OUTPUT_PATH'], 'w')\n",
    "\n",
    "    candles_count = int(input().strip())\n",
    "\n",
    "    candles = list(map(int, input().rstrip().split()))\n",
    "\n",
    "    result = birthdayCakeCandles(candles)\n",
    "\n",
    "    fptr.write(str(result) + '\\n')\n",
    "\n",
    "    fptr.close()"
   ]
  },
  {
   "cell_type": "markdown",
   "id": "44b0c005-fa03-4211-ab56-0201697ff458",
   "metadata": {},
   "source": [
    "#### Kangaroo"
   ]
  },
  {
   "cell_type": "code",
   "execution_count": null,
   "id": "7c7997bc-d3b4-4c00-a9f0-e482f191d8b9",
   "metadata": {},
   "outputs": [],
   "source": [
    "#!/bin/python3\n",
    "\n",
    "import math\n",
    "import os\n",
    "import random\n",
    "import re\n",
    "import sys\n",
    "\n",
    "#\n",
    "# Complete the 'kangaroo' function below.\n",
    "#\n",
    "# The function is expected to return a STRING.\n",
    "# The function accepts following parameters:\n",
    "#  1. INTEGER x1\n",
    "#  2. INTEGER v1\n",
    "#  3. INTEGER x2\n",
    "#  4. INTEGER v2\n",
    "#\n",
    "\n",
    "def kangaroo(x1, v1, x2, v2):\n",
    "    if v1 <= v2:\n",
    "        return \"NO\"\n",
    "    if (x2 - x1) % (v1 - v2) == 0:\n",
    "        return \"YES\"\n",
    "    else:\n",
    "        return \"NO\"\n",
    "\n",
    "if __name__ == '__main__':\n",
    "    fptr = open(os.environ['OUTPUT_PATH'], 'w')\n",
    "\n",
    "    first_multiple_input = input().rstrip().split()\n",
    "\n",
    "    x1 = int(first_multiple_input[0])\n",
    "\n",
    "    v1 = int(first_multiple_input[1])\n",
    "\n",
    "    x2 = int(first_multiple_input[2])\n",
    "\n",
    "    v2 = int(first_multiple_input[3])\n",
    "\n",
    "    result = kangaroo(x1, v1, x2, v2)\n",
    "\n",
    "    fptr.write(result + '\\n')\n",
    "\n",
    "    fptr.close()\n"
   ]
  },
  {
   "cell_type": "markdown",
   "id": "63638b43-c394-47f8-bb22-919c4d765f1a",
   "metadata": {},
   "source": [
    "#### Strange Advertising (Viral Advertising)"
   ]
  },
  {
   "cell_type": "code",
   "execution_count": null,
   "id": "0f12002e-9bb3-472a-826f-c47a812008a1",
   "metadata": {},
   "outputs": [],
   "source": [
    "#!/bin/python3\n",
    "\n",
    "import math\n",
    "import os\n",
    "import random\n",
    "import re\n",
    "import sys\n",
    "\n",
    "#\n",
    "# Complete the 'viralAdvertising' function below.\n",
    "#\n",
    "# The function is expected to return an INTEGER.\n",
    "# The function accepts INTEGER n as parameter.\n",
    "#\n",
    "\n",
    "def viralAdvertising(n):\n",
    "    shared, liked, comulative = 5, 2, 0\n",
    "    for n in range (1, n+1):\n",
    "        liked = shared//2\n",
    "        shared = liked*3\n",
    "        comulative +=liked\n",
    "    return comulative\n",
    "\n",
    "if __name__ == '__main__':\n",
    "    fptr = open(os.environ['OUTPUT_PATH'], 'w')\n",
    "\n",
    "    n = int(input().strip())\n",
    "\n",
    "    result = viralAdvertising(n)\n",
    "\n",
    "    fptr.write(str(result) + '\\n')\n",
    "\n",
    "    fptr.close()"
   ]
  },
  {
   "cell_type": "markdown",
   "id": "f5e6f934-e976-4c87-baf2-5efa3d427447",
   "metadata": {},
   "source": [
    "#### Recursive Digit Sum\n",
    "This was a difficult question for me, I Googled it a lot and watched videos explaining this particular problem."
   ]
  },
  {
   "cell_type": "code",
   "execution_count": null,
   "id": "5763d17a-454f-41a5-ae15-e5bb6a852644",
   "metadata": {},
   "outputs": [],
   "source": [
    "#!/bin/python3\n",
    "\n",
    "import math\n",
    "import os\n",
    "import random\n",
    "import re\n",
    "import sys\n",
    "\n",
    "#\n",
    "# Complete the 'superDigit' function below.\n",
    "#\n",
    "# The function is expected to return an INTEGER.\n",
    "# The function accepts following parameters:\n",
    "#  1. STRING n\n",
    "#  2. INTEGER k\n",
    "#\n",
    "\n",
    "def superDigit(n, k):\n",
    "    n = sum([int(n[i]) for i in range(len(n))]) * k\n",
    "    return superDigit(str(n), 1) if n > 9 else n\n",
    "\n",
    "if __name__ == '__main__':\n",
    "    fptr = open(os.environ['OUTPUT_PATH'], 'w')\n",
    "\n",
    "    first_multiple_input = input().rstrip().split()\n",
    "\n",
    "    n = first_multiple_input[0]\n",
    "\n",
    "    k = int(first_multiple_input[1])\n",
    "\n",
    "    result = superDigit(n, k)\n",
    "\n",
    "    fptr.write(str(result) + '\\n')\n",
    "\n",
    "    fptr.close()\n"
   ]
  },
  {
   "cell_type": "markdown",
   "id": "057c3f5d-78e8-45a2-91b1-c4da49781606",
   "metadata": {},
   "source": [
    "#### Insertion Sort - Part 1"
   ]
  },
  {
   "cell_type": "code",
   "execution_count": null,
   "id": "9a824e64-2878-4324-a9b8-901943549f7e",
   "metadata": {},
   "outputs": [],
   "source": [
    "#!/bin/python3\n",
    "\n",
    "import math\n",
    "import os\n",
    "import random\n",
    "import re\n",
    "import sys\n",
    "\n",
    "#\n",
    "# Complete the 'insertionSort1' function below.\n",
    "#\n",
    "# The function accepts following parameters:\n",
    "#  1. INTEGER n\n",
    "#  2. INTEGER_ARRAY arr\n",
    "#\n",
    "\n",
    "def insertionSort1(n, arr):\n",
    "    key = arr[-1]\n",
    "    i = n - 1\n",
    "\n",
    "    while i > 0 and arr[i - 1] > key:\n",
    "        arr[i] = arr[i - 1]\n",
    "        print(*arr)\n",
    "        i -= 1\n",
    "\n",
    "    arr[i] = key\n",
    "    print(*arr)\n",
    "\n",
    "if __name__ == '__main__':\n",
    "    n = int(input().strip())\n",
    "    arr = list(map(int, input().rstrip().split()))\n",
    "    insertionSort1(n, arr)\n"
   ]
  },
  {
   "cell_type": "markdown",
   "id": "e7a1028c-1a3f-4fb2-a771-e31fb404be2a",
   "metadata": {},
   "source": [
    "#### Insertion Sort - Part 2\n",
    "The same applies to this question, it was easier to do because of the previous question, but I still need to read about it."
   ]
  },
  {
   "cell_type": "code",
   "execution_count": null,
   "id": "75c9e8c3-bc7d-448b-aa4b-103decf54ff1",
   "metadata": {},
   "outputs": [],
   "source": [
    "#!/bin/python3\n",
    "\n",
    "import math\n",
    "import os\n",
    "import random\n",
    "import re\n",
    "import sys\n",
    "\n",
    "#\n",
    "# Complete the 'insertionSort2' function below.\n",
    "#\n",
    "# The function accepts following parameters:\n",
    "#  1. INTEGER n\n",
    "#  2. INTEGER_ARRAY arr\n",
    "#\n",
    "\n",
    "def insertionSort2(n, arr):\n",
    "    for j in range(1, n):\n",
    "        key = arr[j]\n",
    "        i = j\n",
    "        while i > 0 and arr[i - 1] > key:\n",
    "            arr[i] = arr[i - 1]\n",
    "            i -= 1\n",
    "        arr[i] = key\n",
    "        print(*arr)\n",
    "\n",
    "if __name__ == '__main__':\n",
    "    n = int(input().strip())\n",
    "    arr = list(map(int, input().rstrip().split()))\n",
    "    insertionSort2(n, arr)\n"
   ]
  }
 ],
 "metadata": {
  "kernelspec": {
   "display_name": "Python 3 (ipykernel)",
   "language": "python",
   "name": "python3"
  },
  "language_info": {
   "codemirror_mode": {
    "name": "ipython",
    "version": 3
   },
   "file_extension": ".py",
   "mimetype": "text/x-python",
   "name": "python",
   "nbconvert_exporter": "python",
   "pygments_lexer": "ipython3",
   "version": "3.11.5"
  }
 },
 "nbformat": 4,
 "nbformat_minor": 5
}
